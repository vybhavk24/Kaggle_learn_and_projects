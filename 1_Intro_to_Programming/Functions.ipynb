{
 "cells": [
  {
   "cell_type": "code",
   "execution_count": 1,
   "id": "186c7d3c-bb68-4965-acda-4caa4db26c3b",
   "metadata": {},
   "outputs": [],
   "source": [
    "#A function is a block of code designed to perform a specific task."
   ]
  },
  {
   "cell_type": "code",
   "execution_count": 2,
   "id": "787b0cb1-8632-4a30-9e4f-6d9e380857ad",
   "metadata": {},
   "outputs": [],
   "source": [
    "#define the function\n",
    "\n",
    "def add_three(input):\n",
    "    output = input + 3;\n",
    "    return output;"
   ]
  },
  {
   "cell_type": "code",
   "execution_count": 5,
   "id": "b6348319-2564-4d9f-b27d-97ed388c4f73",
   "metadata": {},
   "outputs": [
    {
     "name": "stdout",
     "output_type": "stream",
     "text": [
      "13\n",
      "23\n"
     ]
    }
   ],
   "source": [
    "#Calling the function\n",
    "\n",
    "result1 = add_three(10);\n",
    "result2 = add_three(20);\n",
    "\n",
    "print(result1)\n",
    "print(result2)"
   ]
  },
  {
   "cell_type": "code",
   "execution_count": 6,
   "id": "1a8efa58-53d2-4bba-b4cb-9faa19110bcb",
   "metadata": {},
   "outputs": [],
   "source": [
    "# Function has two parts: Headers and Body\n",
    "\n",
    "#Headers = The function header defines the name of the function and its argument(s).\n",
    "#Body = The function body specifies the work that the function does."
   ]
  },
  {
   "cell_type": "code",
   "execution_count": 7,
   "id": "5d27c19e-d153-4986-aae8-7e68718322ce",
   "metadata": {},
   "outputs": [],
   "source": [
    "def get_pay(hours):\n",
    "    pre_tax = hours * 15; # $15 is paid per hour\n",
    "\n",
    "    post_tax = pre_tax * (1 - .12) # 12% tax is deducted. It's a simple formula kind for %\n",
    "    return post_tax;"
   ]
  },
  {
   "cell_type": "code",
   "execution_count": 9,
   "id": "7f313fb1-cf18-49dc-8933-8fc13f021be4",
   "metadata": {},
   "outputs": [
    {
     "name": "stdout",
     "output_type": "stream",
     "text": [
      "528.0\n",
      "792.0\n"
     ]
    }
   ],
   "source": [
    "vybhav_pay = get_pay(40)\n",
    "print(vybhav_pay);\n",
    "\n",
    "max_pay = get_pay(60)\n",
    "print(max_pay);"
   ]
  },
  {
   "cell_type": "code",
   "execution_count": 10,
   "id": "765f61a6-bcc0-48a8-bd40-23816bc44a99",
   "metadata": {},
   "outputs": [],
   "source": [
    "# Function with multiple arguments\n",
    "\n",
    "def get_pay1(hours, wages, tax):\n",
    "    pre_tax = hours * wages;\n",
    "    post_tax = pre_tax * (1 - tax)\n",
    "    return post_tax;"
   ]
  },
  {
   "cell_type": "code",
   "execution_count": 12,
   "id": "21034c78-30a7-47fe-9285-cdd6e4db7fc3",
   "metadata": {},
   "outputs": [
    {
     "name": "stdout",
     "output_type": "stream",
     "text": [
      "528.0\n",
      "630.0\n"
     ]
    }
   ],
   "source": [
    "vybhav_pay = get_pay1(40, 15, .12)\n",
    "print(vybhav_pay);\n",
    "\n",
    "max_pay = get_pay1(60, 15, .30)\n",
    "print(max_pay);"
   ]
  },
  {
   "cell_type": "code",
   "execution_count": 15,
   "id": "19490cab-6e4d-443c-a60e-6638ba3490dc",
   "metadata": {},
   "outputs": [],
   "source": [
    "# No arguments\n",
    "\n",
    "def hello():\n",
    "    print(\"Hello\");\n",
    "    print(\"Good morning\");\n",
    "    print(\"Have a wonderful day\");"
   ]
  },
  {
   "cell_type": "code",
   "execution_count": 16,
   "id": "45e1fd82-b0b2-4628-a223-9ba3c233e040",
   "metadata": {},
   "outputs": [
    {
     "name": "stdout",
     "output_type": "stream",
     "text": [
      "Hello\n",
      "Good morning\n",
      "Have a wonderful day\n"
     ]
    }
   ],
   "source": [
    "hello();"
   ]
  },
  {
   "cell_type": "code",
   "execution_count": null,
   "id": "0d0febea-2651-4a79-90a5-ec9cf2090cb7",
   "metadata": {},
   "outputs": [],
   "source": []
  }
 ],
 "metadata": {
  "kernelspec": {
   "display_name": "Python 3 (ipykernel)",
   "language": "python",
   "name": "python3"
  },
  "language_info": {
   "codemirror_mode": {
    "name": "ipython",
    "version": 3
   },
   "file_extension": ".py",
   "mimetype": "text/x-python",
   "name": "python",
   "nbconvert_exporter": "python",
   "pygments_lexer": "ipython3",
   "version": "3.11.11"
  }
 },
 "nbformat": 4,
 "nbformat_minor": 5
}
