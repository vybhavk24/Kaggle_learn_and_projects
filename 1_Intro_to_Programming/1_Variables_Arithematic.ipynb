{
 "cells": [
  {
   "cell_type": "code",
   "execution_count": 1,
   "id": "065bb5c2-4ef5-4b31-930b-f1cc65cc0ca1",
   "metadata": {},
   "outputs": [
    {
     "name": "stdout",
     "output_type": "stream",
     "text": [
      "Hello world!\n"
     ]
    }
   ],
   "source": [
    "#printing\n",
    "print(\"Hello world!\");"
   ]
  },
  {
   "cell_type": "code",
   "execution_count": 2,
   "id": "aa2fab38-291c-4a87-ba63-1f4725402699",
   "metadata": {},
   "outputs": [
    {
     "name": "stdout",
     "output_type": "stream",
     "text": [
      "4\n",
      "20\n"
     ]
    }
   ],
   "source": [
    "#Arithematic\n",
    "print(1 + 3);\n",
    "\n",
    "print(4 * 5)"
   ]
  },
  {
   "cell_type": "code",
   "execution_count": 3,
   "id": "b190aa27-5def-4237-8b8c-ad8cdd6e5d1c",
   "metadata": {},
   "outputs": [
    {
     "name": "stdout",
     "output_type": "stream",
     "text": [
      "16.0\n"
     ]
    }
   ],
   "source": [
    "#It follows PEDMAS rule.\n",
    "\n",
    "print((5*3) + 4 - 6 / 2);"
   ]
  },
  {
   "cell_type": "code",
   "execution_count": 4,
   "id": "be7067a5-72fb-4d27-a3fb-5b872a8be7d9",
   "metadata": {},
   "outputs": [
    {
     "name": "stdout",
     "output_type": "stream",
     "text": [
      "14\n"
     ]
    }
   ],
   "source": [
    "#Variables\n",
    "\n",
    "a = 4 + 10;\n",
    "print(a)"
   ]
  },
  {
   "cell_type": "code",
   "execution_count": 5,
   "id": "74bb8d7d-5d65-4125-bdc6-aaa5fe794f0f",
   "metadata": {},
   "outputs": [
    {
     "name": "stdout",
     "output_type": "stream",
     "text": [
      "10\n",
      "9\n"
     ]
    }
   ],
   "source": [
    "a = 4;\n",
    "b = 6;\n",
    "print(a + b);\n",
    "a = 3; #manipulating variables\n",
    "print (a + b);"
   ]
  },
  {
   "cell_type": "code",
   "execution_count": 6,
   "id": "4aa67ffa-2d84-4bfe-ad05-bced3e477720",
   "metadata": {},
   "outputs": [
    {
     "name": "stdout",
     "output_type": "stream",
     "text": [
      "126144000\n"
     ]
    }
   ],
   "source": [
    "#Multiple variables\n",
    "\n",
    "years = 4;\n",
    "days = 365;\n",
    "hours = 24;\n",
    "minutes = 60;\n",
    "seconds = 60;\n",
    "total_seconds = years * days * hours * minutes * seconds;\n",
    "print(total_seconds);"
   ]
  },
  {
   "cell_type": "code",
   "execution_count": 7,
   "id": "0ed96423-6489-4846-9678-851361411c6b",
   "metadata": {},
   "outputs": [],
   "source": [
    "# It's optional to use semi-colons\n",
    "# You don't need to define variable types."
   ]
  },
  {
   "cell_type": "code",
   "execution_count": null,
   "id": "35a272bd-f0a4-42e4-8fe4-438380cd4fd5",
   "metadata": {},
   "outputs": [],
   "source": []
  }
 ],
 "metadata": {
  "kernelspec": {
   "display_name": "Python 3 (ipykernel)",
   "language": "python",
   "name": "python3"
  },
  "language_info": {
   "codemirror_mode": {
    "name": "ipython",
    "version": 3
   },
   "file_extension": ".py",
   "mimetype": "text/x-python",
   "name": "python",
   "nbconvert_exporter": "python",
   "pygments_lexer": "ipython3",
   "version": "3.11.11"
  }
 },
 "nbformat": 4,
 "nbformat_minor": 5
}
